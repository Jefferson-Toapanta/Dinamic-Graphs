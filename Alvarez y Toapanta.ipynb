{
 "cells": [
  {
   "cell_type": "markdown",
   "metadata": {},
   "source": [
    "Deber \"Análisis y Visualización de Sistemas de Ecuaciones Diferenciales 2x2\"\n",
    "\n",
    "Integrantes: \n",
    "Álvarez Calvopiña Bolívar Esteban\n",
    "\n",
    "Toapanta Tipanta Jefferson Isaías \n",
    "\n",
    "Correos institucionales FLACSO\n",
    "bolom1970@gmail.com\n",
    "jitoapantafl@flacso.edu.ec\n",
    "\n",
    "GitHub\n",
    "\n"
   ]
  },
  {
   "cell_type": "markdown",
   "metadata": {},
   "source": [
    "1. Desarrollo del Programa \n",
    "   Implementar la entrada de una matriz 2x2\n",
    "\n",
    "   Escribir el sistema de ecuaciones diferenciales\n",
    "\n",
    "   Calcular valores propios con control de precisión del discriminante\n",
    "\n",
    "   Implementar condicionales para tres casos:\n",
    "\n",
    "         Valores propios reales\n",
    "\n",
    "         Caso Jordan\n",
    "\n",
    "         Valores propios complejos"
   ]
  },
  {
   "cell_type": "code",
   "execution_count": 2,
   "metadata": {},
   "outputs": [
    {
     "name": "stdout",
     "output_type": "stream",
     "text": [
      "Matriz A:\n",
      "[[4 2]\n",
      " [1 3]]\n",
      "\n",
      "Valores propios (autovalores):\n",
      "[5. 2.]\n",
      "\n",
      "Vectores propios (autovectores):\n",
      "[[ 0.89442719 -0.70710678]\n",
      " [ 0.4472136   0.70710678]]\n",
      "\n",
      "Traza de la matriz (suma de la diagonal):\n",
      "7\n",
      "\n",
      "Determinante de la matriz:\n",
      "10.000000000000002\n"
     ]
    }
   ],
   "source": [
    "# Se definió una matríz de 2x2 con valores aleatorios para obtener los valores propios y vectores propios, así como la traza y el determinante \n",
    "\n",
    "import numpy as np\n",
    "\n",
    "# Definir la matriz 2x2\n",
    "A = np.array([[4, 2],\n",
    "              [1, 3]])\n",
    "\n",
    "# Calcular los valores propios (autovalores) y los vectores propios (autovectores)\n",
    "valores_propios, vectores_propios = np.linalg.eig(A)\n",
    "\n",
    "# Calcular la traza (suma de los elementos en la diagonal)\n",
    "traza = np.trace(A)\n",
    "\n",
    "# Calcular el determinante\n",
    "determinante = np.linalg.det(A)\n",
    "\n",
    "# Mostrar los resultados\n",
    "print(\"Matriz A:\")\n",
    "print(A)\n",
    "\n",
    "print(\"\\nValores propios (autovalores):\")\n",
    "print(valores_propios)\n",
    "\n",
    "print(\"\\nVectores propios (autovectores):\")\n",
    "print(vectores_propios)\n",
    "\n",
    "print(\"\\nTraza de la matriz (suma de la diagonal):\")\n",
    "print(traza)\n",
    "\n",
    "print(\"\\nDeterminante de la matriz:\")\n",
    "print(determinante)\n"
   ]
  },
  {
   "cell_type": "markdown",
   "metadata": {},
   "source": [
    "El Primer paso es definir una matriz 2x2, por lo que, en el codigo, se asignan valores para: \"a,b,c, y d\", para la matriz A.\n",
    "\n",
    "El segundo paso es Cálcular los valores propios (λ) y los vectores propios (v) de la matriz A, para lo cual, se calculan resolviendo la ecuación característica: det(A−λI)=0. Donde I es la matriz identidad.\n",
    "\n",
    "        Valores propios: Son las raíces de la ecuación característica.\n",
    "\n",
    "        Vectores propios: Son los vectores no nulos que satisfacen Av=λv.\n",
    "\n",
    "El Tercer paso es el Cálculo de la traza y el determinante, en donde:\n",
    "\n",
    "        Traza: Es la suma de los elementos en la diagonal principal de A:Traza (A)=a+d En el ejercicio presenta los siguientes resultados (A) = 4+3 = 7\n",
    "\n",
    "        Determinante: Para una matriz 2×2 el determinante se calcula como: det (A)=ad−bc En el ejercicio presenta los siguientes resultados (A) = (4*3)-(2*1) = 10\n"
   ]
  },
  {
   "cell_type": "markdown",
   "metadata": {},
   "source": [
    "Sistema de ecuaciones diferenciales "
   ]
  },
  {
   "cell_type": "code",
   "execution_count": 3,
   "metadata": {},
   "outputs": [
    {
     "name": "stdout",
     "output_type": "stream",
     "text": [
      "\n",
      "Sistema de ecuaciones diferenciales:\n",
      "\n",
      "dx1/dt = 4 * x1 + 2 * x2\n",
      "dx2/dt = 1 * x1 + 3 * x2\n",
      "\n"
     ]
    }
   ],
   "source": [
    "# Con base a la matriz se planteó un código para que escriba las ecuaciones diferenciales\n",
    "import numpy as np\n",
    "\n",
    "# Definir la matriz 2x2\n",
    "A = np.array([[4, 2],\n",
    "              [1, 3]])\n",
    "\n",
    "# Desglosar los elementos de la matriz A\n",
    "a11, a12 = A[0, 0], A[0, 1]\n",
    "a21, a22 = A[1, 0], A[1, 1]\n",
    "\n",
    "# Escribir el sistema de ecuaciones diferenciales\n",
    "ecuaciones = f\"\"\"\n",
    "Sistema de ecuaciones diferenciales:\n",
    "\n",
    "dx1/dt = {a11} * x1 + {a12} * x2\n",
    "dx2/dt = {a21} * x1 + {a22} * x2\n",
    "\"\"\"\n",
    "\n",
    "# Mostrar las ecuaciones\n",
    "print(ecuaciones)\n"
   ]
  },
  {
   "cell_type": "markdown",
   "metadata": {},
   "source": [
    "El cuarto paso es la resolución del sistema de ecuaciones diferenciales\n",
    "\n",
    "El sistema de ecuaciones diferenciales asociado a la matriz A es:dx/dt=Ax\n",
    "\n",
    "Intervalo de tiempo: \n",
    "\n",
    "t ∈ [0,10]"
   ]
  },
  {
   "cell_type": "markdown",
   "metadata": {},
   "source": [
    "1. Visualizaciones Requeridas\n",
    "\n",
    "Para cada caso, generar:\n",
    "\n",
    "        Gráfica de x vs tiempo\n",
    "\n",
    "        Gráfica de y vs tiempo\n",
    "\n",
    "        Diagrama de fase (x , y) con vectores propios\n"
   ]
  },
  {
   "cell_type": "markdown",
   "metadata": {},
   "source": [
    "Considerando los resultados obtenidos, se plantea un código donde se pueda gráficar la matriz y que permita obtener los valores y vectores propios, así como también la traza y el determinante. \n",
    "\n",
    "Una vez ingresado los valores, el código graficará el diagrama de fases y los diagramas de velocidad en x y en y."
   ]
  },
  {
   "cell_type": "code",
   "execution_count": 4,
   "metadata": {},
   "outputs": [
    {
     "data": {
      "application/vnd.jupyter.widget-view+json": {
       "model_id": "94c94666716041edb9463177b54bffd3",
       "version_major": 2,
       "version_minor": 0
      },
      "text/plain": [
       "interactive(children=(FloatText(value=4.0, description='a:', step=0.1), FloatText(value=2.0, description='b:',…"
      ]
     },
     "metadata": {},
     "output_type": "display_data"
    },
    {
     "data": {
      "text/plain": [
       "<function __main__.plot_field(a, b, c, d)>"
      ]
     },
     "execution_count": 4,
     "metadata": {},
     "output_type": "execute_result"
    }
   ],
   "source": [
    "import numpy as np\n",
    "import matplotlib.pyplot as plt\n",
    "from ipywidgets import interact, FloatText\n",
    "from scipy.integrate import odeint\n",
    "\n",
    "# Definir la ecuación diferencial dx/dt = A * x\n",
    "def sistema(x, t, A):\n",
    "    return np.dot(A, x)\n",
    "\n",
    "# Función para graficar el campo de direcciones, vectores propios y las gráficas dx/dt y dy/dt\n",
    "def plot_field(a, b, c, d):\n",
    "    # Definir la matriz A interactiva\n",
    "    A = np.array([[a, b],\n",
    "                  [c, d]])\n",
    "\n",
    "    # Calcular los valores propios, vectores propios, traza y determinante\n",
    "    valores_propios, vectores_propios = np.linalg.eig(A)\n",
    "    traza = np.trace(A)\n",
    "    determinante = np.linalg.det(A)\n",
    "\n",
    "    # Mostrar los valores propios, vectores propios, traza y determinante\n",
    "    print(f\"Valores propios: {valores_propios}\")\n",
    "    print(f\"Vectores propios:\\n{vectores_propios}\")\n",
    "    print(f\"Traza de la matriz (Suma de la diagonal): {traza}\")\n",
    "    print(f\"Determinante de la matriz: {determinante}\")\n",
    "\n",
    "    # Definir el espacio de fases (gráficas en el plano x1 vs x2)\n",
    "    x1_vals = np.linspace(-5, 5, 20)\n",
    "    x2_vals = np.linspace(-5, 5, 20)\n",
    "\n",
    "    # Crear un grid de valores para las condiciones iniciales\n",
    "    x1, x2 = np.meshgrid(x1_vals, x2_vals)\n",
    "\n",
    "    # Vectorizar las ecuaciones del sistema para graficar el campo de direcciones\n",
    "    dx1, dx2 = np.zeros(x1.shape), np.zeros(x2.shape)\n",
    "\n",
    "    # Calcular los vectores de dirección en cada punto\n",
    "    for i in range(x1.shape[0]):\n",
    "        for j in range(x1.shape[1]):\n",
    "            estado = np.array([x1[i, j], x2[i, j]])\n",
    "            dx1[i, j], dx2[i, j] = sistema(estado, 0, A)\n",
    "\n",
    "    # Graficar el campo de direcciones\n",
    "    plt.figure(figsize=(8, 8))\n",
    "    plt.streamplot(x1, x2, dx1, dx2, color='b', linewidth=1)\n",
    "\n",
    "    # Traza de los vectores propios\n",
    "    # Graficar los vectores propios con colores diferentes y mayor longitud\n",
    "    for i in range(2):\n",
    "        longitud = 2  # Factor de escala para la longitud de los vectores\n",
    "        color = ['r', 'g'][i]  # Diferentes colores para los vectores\n",
    "        plt.quiver(0, 0, vectores_propios[0, i] * longitud, vectores_propios[1, i] * longitud, \n",
    "                   angles='xy', scale_units='xy', scale=1, color=color, \n",
    "                   label=f'Vector propio {i+1}' if i == 0 else '')\n",
    "\n",
    "    # Títulos y etiquetas\n",
    "    plt.title('Gráfico de Fase Interactivo')\n",
    "    plt.xlabel('$x_1$')\n",
    "    plt.ylabel('$x_2$')\n",
    "    plt.axhline(0, color='k',linewidth=0.8)\n",
    "    plt.axvline(0, color='k',linewidth=0.8)\n",
    "    plt.xlim(-5, 5)\n",
    "    plt.ylim(-5, 5)\n",
    "    plt.grid(True)\n",
    "\n",
    "    # Mostrar el gráfico\n",
    "    plt.legend()\n",
    "    plt.show()\n",
    "\n",
    "    # Graficar dx/dt (derivada de x1) y dy/dt (derivada de x2)\n",
    "    t_vals = np.linspace(0, 10, 100)\n",
    "    x0 = np.array([1, 1])  # Condiciones iniciales\n",
    "\n",
    "    # Resolver las ecuaciones diferenciales para x1 y x2\n",
    "    def sistema_diferencial(x, t, A):\n",
    "        return np.dot(A, x)\n",
    "\n",
    "    # Resolver para el sistema con condiciones iniciales\n",
    "    solucion = odeint(sistema_diferencial, x0, t_vals, args=(A,))\n",
    "\n",
    "    # Graficar dx/dt (derivada de x1)\n",
    "    plt.figure(figsize=(8, 6))\n",
    "    plt.plot(t_vals, solucion[:, 0], label=r'$\\frac{dx}{dt}$', color='b')\n",
    "\n",
    "    # Títulos y etiquetas para dx/dt\n",
    "    plt.title(r'Gráfico de $\\dfrac{dx}{dt}$')\n",
    "    plt.xlabel('Tiempo (t)')\n",
    "    plt.ylabel(r'$\\dfrac{dx}{dt}$')\n",
    "    plt.legend()\n",
    "    plt.grid(True)\n",
    "    plt.show()\n",
    "\n",
    "    # Graficar dy/dt (derivada de x2)\n",
    "    plt.figure(figsize=(8, 6))\n",
    "    plt.plot(t_vals, solucion[:, 1], label=r'$\\frac{dy}{dt}$', color='g')\n",
    "\n",
    "    # Títulos y etiquetas para dy/dt\n",
    "    plt.title(r'Gráfico de $\\dfrac{dy}{dt}$')\n",
    "    plt.xlabel('Tiempo (t)')\n",
    "    plt.ylabel(r'$\\dfrac{dy}{dt}$')\n",
    "    plt.legend()\n",
    "    plt.grid(True)\n",
    "    plt.show()\n",
    "\n",
    "# Crear entradas para los valores de la matriz A\n",
    "a_input = FloatText(value=4, description='a:', step=0.1)\n",
    "b_input = FloatText(value=2, description='b:', step=0.1)\n",
    "c_input = FloatText(value=1, description='c:', step=0.1)\n",
    "d_input = FloatText(value=3, description='d:', step=0.1)\n",
    "\n",
    "# Usar interact para actualizar el gráfico con los valores de los inputs\n",
    "interact(plot_field, a=a_input, b=b_input, c=c_input, d=d_input)\n"
   ]
  },
  {
   "cell_type": "markdown",
   "metadata": {},
   "source": [
    "El quinto paso es la realización de gráficos interactivos\n",
    "\n",
    "El código incluye gráficos interactivos para visualizar:\n",
    "\n",
    "        Campo de direcciones\n",
    "\n",
    "        Muestra las trayectorias del sistema en el plano x1 y x2.\n",
    "\n",
    "        Se grafican los vectores propios como flechas en el campo de direcciones.\n",
    "\n",
    "        Gráficas de dx/dt y dy/dt:\n",
    "\n",
    "        Muestran las derivadas de las soluciones x1(t) y x2(t)en función del tiempo."
   ]
  },
  {
   "cell_type": "markdown",
   "metadata": {},
   "source": [
    "Considerando el código anterior se realizó la inclusión de condicionantes para que las trayectorias se ajusten de acuerdo a los resultados de los valores y vectores propios, es decir se incluyó las siguientes condiciones: \n",
    "\n",
    "λ1 , λ2 pertenecen a los reales\n",
    "\n",
    "λ1 = λ2 raíces iguales (Jordan)\n",
    "\n",
    "λ1 ≠ λ2 números complejos o imaginarios\n"
   ]
  },
  {
   "cell_type": "code",
   "execution_count": 5,
   "metadata": {},
   "outputs": [
    {
     "data": {
      "application/vnd.jupyter.widget-view+json": {
       "model_id": "1db6d7bcff974faea913aa8f341fd46c",
       "version_major": 2,
       "version_minor": 0
      },
      "text/plain": [
       "interactive(children=(FloatText(value=4.0, description='a:', step=0.1), FloatText(value=2.0, description='b:',…"
      ]
     },
     "metadata": {},
     "output_type": "display_data"
    },
    {
     "data": {
      "text/plain": [
       "<function __main__.plot_field(a, b, c, d)>"
      ]
     },
     "execution_count": 5,
     "metadata": {},
     "output_type": "execute_result"
    }
   ],
   "source": [
    "import numpy as np\n",
    "import matplotlib.pyplot as plt\n",
    "from ipywidgets import interact, FloatText\n",
    "from scipy.integrate import odeint\n",
    "\n",
    "# Definir la ecuación diferencial dx/dt = A * x\n",
    "def sistema(x, t, A):\n",
    "    return np.dot(A, x)\n",
    "\n",
    "# Función para calcular las soluciones de acuerdo con el tipo de valores propios\n",
    "def calcular_solucion(valores_propios, vectores_propios, t_vals, x0):\n",
    "    if np.isreal(valores_propios).all() and valores_propios[0] != valores_propios[1]:\n",
    "        # Caso 1: Raíces reales y distintas\n",
    "        c1, c2 = np.linalg.solve(np.column_stack([vectores_propios[:, 0], vectores_propios[:, 1]]), x0)\n",
    "        solucion = np.array([c1 * np.exp(valores_propios[0] * t) * vectores_propios[:, 0] + c2 * np.exp(valores_propios[1] * t) * vectores_propios[:, 1] for t in t_vals])\n",
    "    elif valores_propios[0] == valores_propios[1]:\n",
    "        # Caso 2: Raíces iguales (calcular con Jordan)\n",
    "        # Si las raíces son iguales, la matriz no es diagonalizable, entonces debemos usar el método de Jordan\n",
    "        v1, v2 = vectores_propios[:, 0], vectores_propios[:, 1]\n",
    "        c1, c2 = np.linalg.solve(np.column_stack([v1, v2]), x0)\n",
    "        # Solución general con el caso de Jordan (e^(λt) * v + t * e^(λt) * v2)\n",
    "        solucion = np.array([c1 * np.exp(valores_propios[0] * t) * v1 + c2 * np.exp(valores_propios[0] * t) * (v2 + t * v2) for t in t_vals])\n",
    "    else:\n",
    "        # Caso 3: Raíces complejas\n",
    "        # Si las raíces son complejas, tenemos que considerar la parte real e imaginaria\n",
    "        v1_real = vectores_propios[:, 0].real\n",
    "        v1_imag = vectores_propios[:, 0].imag\n",
    "        c1, c2 = np.linalg.solve(np.column_stack([v1_real, v1_imag]), x0)\n",
    "        solucion = np.array([np.exp(valores_propios[0].real * t) * (c1 * np.cos(valores_propios[0].imag * t) * v1_real - c2 * np.sin(valores_propios[0].imag * t) * v1_imag) for t in t_vals])\n",
    "\n",
    "    return solucion\n",
    "\n",
    "# Función para graficar el campo de direcciones, vectores propios y las gráficas dx/dt y dy/dt\n",
    "def plot_field(a, b, c, d):\n",
    "    # Definir la matriz A interactiva\n",
    "    A = np.array([[a, b],\n",
    "                  [c, d]])\n",
    "\n",
    "    # Calcular los valores propios, vectores propios, traza y determinante\n",
    "    valores_propios, vectores_propios = np.linalg.eig(A)\n",
    "    traza = np.trace(A)\n",
    "    determinante = np.linalg.det(A)\n",
    "\n",
    "    # Mostrar los valores propios, vectores propios, traza y determinante\n",
    "    print(f\"Valores propios: {valores_propios}\")\n",
    "    print(f\"Vectores propios:\\n{vectores_propios}\")\n",
    "    print(f\"Traza de la matriz (Suma de la diagonal): {traza}\")\n",
    "    print(f\"Determinante de la matriz: {determinante}\")\n",
    "\n",
    "    # Definir el espacio de fases (gráficas en el plano x1 vs x2)\n",
    "    x1_vals = np.linspace(-5, 5, 20)\n",
    "    x2_vals = np.linspace(-5, 5, 20)\n",
    "\n",
    "    # Crear un grid de valores para las condiciones iniciales\n",
    "    x1, x2 = np.meshgrid(x1_vals, x2_vals)\n",
    "\n",
    "    # Vectorizar las ecuaciones del sistema para graficar el campo de direcciones\n",
    "    dx1, dx2 = np.zeros(x1.shape), np.zeros(x2.shape)\n",
    "\n",
    "    # Calcular los vectores de dirección en cada punto\n",
    "    for i in range(x1.shape[0]):\n",
    "        for j in range(x1.shape[1]):\n",
    "            estado = np.array([x1[i, j], x2[i, j]])\n",
    "            dx1[i, j], dx2[i, j] = sistema(estado, 0, A)\n",
    "\n",
    "    # Graficar el campo de direcciones\n",
    "    plt.figure(figsize=(8, 8))\n",
    "    plt.streamplot(x1, x2, dx1, dx2, color='b', linewidth=1)\n",
    "\n",
    "    # Traza de los vectores propios\n",
    "    # Graficar los vectores propios con colores diferentes y mayor longitud\n",
    "    for i in range(2):\n",
    "        longitud = 2  # Factor de escala para la longitud de los vectores\n",
    "        color = ['r', 'g'][i]  # Diferentes colores para los vectores\n",
    "        plt.quiver(0, 0, vectores_propios[0, i] * longitud, vectores_propios[1, i] * longitud, \n",
    "                   angles='xy', scale_units='xy', scale=1, color=color, \n",
    "                   label=f'Vector propio {i+1}' if i == 0 else '')\n",
    "\n",
    "    # Títulos y etiquetas\n",
    "    plt.title('Gráfico de Fase Interactivo')\n",
    "    plt.xlabel('$x_1$')\n",
    "    plt.ylabel('$x_2$')\n",
    "    plt.axhline(0, color='k',linewidth=0.8)\n",
    "    plt.axvline(0, color='k',linewidth=0.8)\n",
    "    plt.xlim(-5, 5)\n",
    "    plt.ylim(-5, 5)\n",
    "    plt.grid(True)\n",
    "\n",
    "    # Mostrar el gráfico\n",
    "    plt.legend()\n",
    "    plt.show()\n",
    "\n",
    "    # Graficar dx/dt (derivada de x1) y dy/dt (derivada de x2)\n",
    "    t_vals = np.linspace(0, 10, 100)\n",
    "    x0 = np.array([1, 1])  # Condiciones iniciales\n",
    "\n",
    "    # Calcular la solución según el tipo de valores propios\n",
    "    solucion = calcular_solucion(valores_propios, vectores_propios, t_vals, x0)\n",
    "\n",
    "    # Graficar dx/dt (derivada de x1)\n",
    "    plt.figure(figsize=(8, 6))\n",
    "    plt.plot(t_vals, solucion[:, 0], label=r'$\\frac{dx}{dt}$', color='b')\n",
    "\n",
    "    # Títulos y etiquetas para dx/dt\n",
    "    plt.title(r'Gráfico de $\\dfrac{dx}{dt}$')\n",
    "    plt.xlabel('Tiempo (t)')\n",
    "    plt.ylabel(r'$\\dfrac{dx}{dt}$')\n",
    "    plt.legend()\n",
    "    plt.grid(True)\n",
    "    plt.show()\n",
    "\n",
    "    # Graficar dy/dt (derivada de x2)\n",
    "    plt.figure(figsize=(8, 6))\n",
    "    plt.plot(t_vals, solucion[:, 1], label=r'$\\frac{dy}{dt}$', color='g')\n",
    "\n",
    "    # Títulos y etiquetas para dy/dt\n",
    "    plt.title(r'Gráfico de $\\dfrac{dy}{dt}$')\n",
    "    plt.xlabel('Tiempo (t)')\n",
    "    plt.ylabel(r'$\\dfrac{dy}{dt}$')\n",
    "    plt.legend()\n",
    "    plt.grid(True)\n",
    "    plt.show()\n",
    "\n",
    "# Crear entradas para los valores de la matriz A\n",
    "a_input = FloatText(value=4, description='a:', step=0.1)\n",
    "b_input = FloatText(value=2, description='b:', step=0.1)\n",
    "c_input = FloatText(value=1, description='c:', step=0.1)\n",
    "d_input = FloatText(value=3, description='d:', step=0.1)\n",
    "\n",
    "# Usar interact para actualizar el gráfico con los valores de los inputs\n",
    "interact(plot_field, a=a_input, b=b_input, c=c_input, d=d_input)\n"
   ]
  },
  {
   "cell_type": "markdown",
   "metadata": {},
   "source": [
    "Cómo sexto paso se realizan las condicionantes para los valores propios\n",
    "\n",
    "El código incluye condicionantes para manejar diferentes casos según los valores propios:\n",
    "\n",
    "*Valores propios reales y distintos:\n",
    "\n",
    " - Se grafican ambos vectores propios.\n",
    "\n",
    " - La solución del sistema se expresa como una combinación lineal de exponenciales.\n",
    "\n",
    "*Valores propios reales e iguales:\n",
    "\n",
    " - Se grafica un solo vector propio.\n",
    "\n",
    " - La solución del sistema se calcula usando el método de Jordan.\n",
    "\n",
    "*Valores propios complejos:\n",
    "\n",
    " - No se grafican vectores propios.\n",
    "\n",
    " - La solución del sistema se expresa en términos de funciones trigonométricas (seno y coseno).\n",
    "\n",
    "\n",
    "Finalmente, se permite que el usuario ajuste los valores de la matriz A de manera interactiva para que el código con base a los resultados direccione el método de calculo (solución general, Jordam y complejos)"
   ]
  },
  {
   "cell_type": "markdown",
   "metadata": {},
   "source": [
    "Cómo sexto paso se realizan las Condicionantes para los valores propios\n",
    "El código incluye condicionantes para manejar diferentes casos según los valores propios:\n",
    "*Valores propios reales y distintos:\n",
    " - Se grafican ambos vectores propios.\n",
    " - La solución del sistema se expresa como una combinación lineal de exponenciales.\n",
    "*Valores propios reales e iguales:\n",
    " - Se grafica un solo vector propio.\n",
    " - La solución del sistema se calcula usando el método de Jordan.\n",
    "*Valores propios complejos:\n",
    " - No se grafican vectores propios.\n",
    " - La solución del sistema se expresa en términos de funciones trigonométricas (seno y coseno).\n",
    "\n",
    "Finalmente, se permite que el usuario ajuste los valores de la matriz A de manera interactiva"
   ]
  },
  {
   "cell_type": "markdown",
   "metadata": {},
   "source": [
    "De igual manera, se puede interpretar que los graficos de dx/dt y dy/dt nos indica la velocidad de cómo se mueve x y x, donde se puede mencionar que en los gráficos experimentan un incremento pronunciado a partir del eje tiempo 9 aproximadamente, lo cual, al hacer un ejercicio digamos colocando valores diferentes en la matriz como x ejm 0 5 0 -1 podemos observar que el gráfico de velocidad \"y\" tiene una tendencia diferente para dx/dt con respecto a dy/dt la cual es decreciente. \n",
    "\n",
    "Es importante señalar que la trayectoria que tendrá el gráfico dependerá de los resultados de tao y determinante en cuanto a la ecuación del polinomio característico, donde implica que la expresión condiciona la trayectoria, por ejemplo cuando el resultado presenta valores complejos al ingresar a=0.2 b=-4 c=3 d=-1 podemos observar el cambio del gráfico a diferencia de los caso de Jordan y solución general y en este caso en específico en el diagrama de fases muestra trayectorias cíclicas alrededor del punto (0,0)"
   ]
  },
  {
   "cell_type": "markdown",
   "metadata": {},
   "source": [
    "Referencias: \n"
   ]
  },
  {
   "cell_type": "markdown",
   "metadata": {},
   "source": [
    "https://www.youtube.com/watch?v=MM3cBamj1Ms&t=611s"
   ]
  }
 ],
 "metadata": {
  "kernelspec": {
   "display_name": "mega",
   "language": "python",
   "name": "python3"
  },
  "language_info": {
   "codemirror_mode": {
    "name": "ipython",
    "version": 3
   },
   "file_extension": ".py",
   "mimetype": "text/x-python",
   "name": "python",
   "nbconvert_exporter": "python",
   "pygments_lexer": "ipython3",
   "version": "3.10.15"
  }
 },
 "nbformat": 4,
 "nbformat_minor": 2
}
